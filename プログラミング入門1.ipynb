{
  "nbformat": 4,
  "nbformat_minor": 0,
  "metadata": {
    "colab": {
      "provenance": [],
      "authorship_tag": "ABX9TyN7m7tP6aE8W2x0aY5Oee1n",
      "include_colab_link": true
    },
    "kernelspec": {
      "name": "python3",
      "display_name": "Python 3"
    },
    "language_info": {
      "name": "python"
    }
  },
  "cells": [
    {
      "cell_type": "markdown",
      "metadata": {
        "id": "view-in-github",
        "colab_type": "text"
      },
      "source": [
        "<a href=\"https://colab.research.google.com/github/taisei248/Hello-world/blob/master/%E3%83%97%E3%83%AD%E3%82%B0%E3%83%A9%E3%83%9F%E3%83%B3%E3%82%B0%E5%85%A5%E9%96%801.ipynb\" target=\"_parent\"><img src=\"https://colab.research.google.com/assets/colab-badge.svg\" alt=\"Open In Colab\"/></a>"
      ]
    },
    {
      "cell_type": "markdown",
      "source": [
        "# プログラミング入門\n",
        "この授業ではPythonを使って学習します。\n",
        "\n",
        "\n",
        "1.   プログラミングとは\n",
        "2.   はじめてのプログラミング\n",
        "\n",
        "\n",
        "## 1.   リスト項目\n",
        "これはペンです。\n",
        "## 2.   リスト項目\n",
        "\n",
        "\n",
        "\n"
      ],
      "metadata": {
        "id": "5vARdY8ASqdY"
      }
    },
    {
      "cell_type": "code",
      "source": [
        "1+1"
      ],
      "metadata": {
        "colab": {
          "base_uri": "https://localhost:8080/"
        },
        "id": "dU_pruEMSnyG",
        "outputId": "bb52c1b0-4f51-485f-fc01-4373bf40640e"
      },
      "execution_count": null,
      "outputs": [
        {
          "output_type": "execute_result",
          "data": {
            "text/plain": [
              "2"
            ]
          },
          "metadata": {},
          "execution_count": 1
        }
      ]
    },
    {
      "cell_type": "markdown",
      "source": [
        "動きましたか？"
      ],
      "metadata": {
        "id": "dLZLzLeXTeg9"
      }
    }
  ]
}
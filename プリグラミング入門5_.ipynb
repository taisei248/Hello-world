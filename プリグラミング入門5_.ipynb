{
  "nbformat": 4,
  "nbformat_minor": 0,
  "metadata": {
    "colab": {
      "provenance": [],
      "authorship_tag": "ABX9TyMJ6NTDp0aLW8PolqqyLdgo",
      "include_colab_link": true
    },
    "kernelspec": {
      "name": "python3",
      "display_name": "Python 3"
    },
    "language_info": {
      "name": "python"
    }
  },
  "cells": [
    {
      "cell_type": "markdown",
      "metadata": {
        "id": "view-in-github",
        "colab_type": "text"
      },
      "source": [
        "<a href=\"https://colab.research.google.com/github/taisei248/Hello-world/blob/master/%E3%83%97%E3%83%AA%E3%82%B0%E3%83%A9%E3%83%9F%E3%83%B3%E3%82%B0%E5%85%A5%E9%96%805_.ipynb\" target=\"_parent\"><img src=\"https://colab.research.google.com/assets/colab-badge.svg\" alt=\"Open In Colab\"/></a>"
      ]
    },
    {
      "cell_type": "markdown",
      "source": [
        " 条件分岐する②：if構文  \n",
        "「～でないときの条件」を並べて、ある条件には当てはまらないが、別の条件には当てはまる場合の処理を実行したいときに使うのが「elif」です。これにより多条件分岐による処理が記述できます。条件分岐の確認は上から行われ、最初に当てはまった処理だけが実行されることに注意しましょう。\n",
        "\n",
        "> if 条件式1:  \n",
        "> 　　条件1が成り立っているときに実行する文  \n",
        "> elif 条件式2:  \n",
        "> 　　条件2が成り立っているときに実行する文  \n",
        "> elif 条件式3:  \n",
        "> 　　条件3が成り立っているときに実行する文  \n",
        "> 　・・・  \n",
        "> else:  \n",
        "> 　　どの条件も成り立っていないときに実行する文   \n",
        "\n",
        "例）1から10の整数で、2の倍数のときは「〇」、3の倍数のときは「✕」、6の倍数のときは「△」、いずれでもないときは「☆」を表示するプログラム  \n",
        "\n",
        "for a in range(1, 10+1):  \n",
        "　　print(a, end = \"\")  \n",
        "　　if (a % 2 == 0) and (a % 3 == 0):  \n",
        "　　　　print(\"△\")  \n",
        "　　elif a % 2 == 0:  \n",
        "　　　　print(\"〇\")    \n",
        "　　elif a % 3 == 0:  \n",
        "　　　　print(\"✕\")  \n",
        "　　else:  \n",
        "　　　　print(\"☆\")  \n",
        "\n",
        "\n"
      ],
      "metadata": {
        "id": "7nDbUWdRrJ3P"
      }
    },
    {
      "cell_type": "markdown",
      "source": [
        "① 年齢ageに適当な数を入れ、12歳以下だと800円、13歳以上18歳以下だと1000円、20歳以上59歳以下だと1500円、60歳以上だと1200円と表示するプログラムを、if～elif～else文を用いて書こう。"
      ],
      "metadata": {
        "id": "N8J7VIH3eM3O"
      }
    },
    {
      "cell_type": "code",
      "source": [],
      "metadata": {
        "id": "KOCZj52U1YWS"
      },
      "execution_count": null,
      "outputs": []
    },
    {
      "cell_type": "markdown",
      "source": [
        "・break文  \n",
        "for構文やwhile構文などのループから抜け出し時に使用するのがbreak文です。 先に学んだ無限ループなどから条件で抜けだすときや、目的のものが見つかったとき等にループを抜けるのに使用します。  \n",
        "例）  \n",
        "for no in [1,3,6,8,10]:  \n",
        "　　if no == 6:  \n",
        "　　　　print(\"6が見つかりました。\")  \n",
        "　　　　break  \n",
        "else:  \n",
        "　　print(\"6は見つかりませんでした。\")  "
      ],
      "metadata": {
        "id": "eOZz2NPMrITR"
      }
    },
    {
      "cell_type": "markdown",
      "source": [
        "② for構文で変数iを0から10まで1ずつ増やしながらiの2乗を表示し、その値が80を超えたらbreak文でループを中断するプログラムを書こう。"
      ],
      "metadata": {
        "id": "Nlyr2bB-iJ2N"
      }
    },
    {
      "cell_type": "code",
      "source": [],
      "metadata": {
        "id": "AnOaTPuKlAkr"
      },
      "execution_count": null,
      "outputs": []
    },
    {
      "cell_type": "markdown",
      "source": [
        "・continue文（発展）  \n",
        "break文がループを抜けるのに対して、ループ内の後続処理をスキップするのがcontuinue文です。ループは最後まで継続ししたいけれど、ある条件を満たしときにループ内の処理をスキップしたいときに使用します。  \n",
        "例）  \n",
        "a = 0  \n",
        "while True:  \n",
        "　　if a >=10:  \n",
        "　　　　break  \n",
        "　　if a == 3:  \n",
        "　　　　a = a + 1  \n",
        "　　　　continue  \n",
        "　　print(a)  \n",
        "　　a = a + 1"
      ],
      "metadata": {
        "id": "8-2nEr_ZlBTC"
      }
    },
    {
      "cell_type": "markdown",
      "source": [
        "③ 上の例を実行して、どのようにスキップされたか確認しよう。"
      ],
      "metadata": {
        "id": "v2M5SWGbnekc"
      }
    },
    {
      "cell_type": "code",
      "source": [],
      "metadata": {
        "id": "3jtGCghMuzea"
      },
      "execution_count": null,
      "outputs": []
    },
    {
      "cell_type": "markdown",
      "source": [
        "・何もしないことを示すpass  \n",
        "主にif文で、条件が成り立ったときに何も実行すべきものがないとき、何も書かないとエラーになるため、「条件が成り立ったときに実行する文」としてpassと書きます。passは、何もしないという命令です。  \n",
        "> if 条件式:  \n",
        "> 　　pass  \n",
        "> else:  \n",
        "> 　　条件が成り立たなかったときに実行する文  \n",
        "例）  \n",
        "for color in  [\"red\",\"green\",\"blue\",\"magenta\",\"cyan\",\"yellow\"]:  \n",
        "　　if color == \"magenta\":  \n",
        "　　　　pass  \n",
        "　　else:  \n",
        "　　　　print(color)  "
      ],
      "metadata": {
        "id": "LK5rEbFDpmBv"
      }
    },
    {
      "cell_type": "markdown",
      "source": [
        "④ 上の例を実行してpassが実際何もしていないことを確認しよう。"
      ],
      "metadata": {
        "id": "0HtZlYCqulwo"
      }
    },
    {
      "cell_type": "code",
      "source": [],
      "metadata": {
        "id": "yz7lEC0Hur-u"
      },
      "execution_count": null,
      "outputs": []
    },
    {
      "cell_type": "markdown",
      "source": [
        "・二重ループ（発展）  \n",
        "繰り返しの中で繰り返し処理を実行する必要がある場合があります。こんなときに使うのが二重ループです。（同様に三重ループ、四重ループも考えられます。）\n",
        "例）次のように横に10個ずつ縦に5行「*」記号を表示してみましょう。\n",
        "\n",
        "\\*\\*\\*\\*\\*\\*\\*\\*\\*\\*  \n",
        "\\*\\*\\*\\*\\*\\*\\*\\*\\*\\*  \n",
        "\\*\\*\\*\\*\\*\\*\\*\\*\\*\\*  \n",
        "\\*\\*\\*\\*\\*\\*\\*\\*\\*\\*  \n",
        "\\*\\*\\*\\*\\*\\*\\*\\*\\*\\*   \n",
        "\n",
        "これをprint(\"*\")を使って実行するには、次のように書きます。\n",
        "例）  \n",
        "for i in range(5):  \n",
        "　　for j in range(10):  \n",
        "　　　　print(\"*\", end=\"\")  \n",
        "　　print(\"￥n\")  \n"
      ],
      "metadata": {
        "id": "KWuks62Snss_"
      }
    },
    {
      "cell_type": "markdown",
      "source": [
        "⑤ 次のように記号を表示するプログラムを、二重ループの例を参考に作成してみよう。  \n",
        "\\*  \n",
        "\\*\\*  \n",
        "\\*\\*\\*  \n",
        "\\*\\*\\*\\*  \n",
        "\\*\\*\\*\\*\\*  \n",
        "\\*\\*\\*\\*\\*\\*  \n",
        "\\*\\*\\*\\*\\*\\*\\*  \n",
        "\\*\\*\\*\\*\\*\\*\\*\\*  \n",
        "\\*\\*\\*\\*\\*\\*\\*\\*\\*  \n",
        "\\*\\*\\*\\*\\*\\*\\*\\*\\*\\*  "
      ],
      "metadata": {
        "id": "Zg1l1waAoFzs"
      }
    },
    {
      "cell_type": "code",
      "source": [],
      "metadata": {
        "id": "nWi1c3rmoKWV"
      },
      "execution_count": null,
      "outputs": []
    }
  ]
}